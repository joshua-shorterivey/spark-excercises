{
 "cells": [
  {
   "cell_type": "markdown",
   "metadata": {},
   "source": [
    "You might have noticed that the latest date in the dataset is fairly far off from the present day. To account for this, replace any occurances of the current time with the maximum date from the dataset.\n"
   ]
  },
  {
   "cell_type": "markdown",
   "metadata": {},
   "source": [
    "# Exercises\n",
    "\n"
   ]
  },
  {
   "cell_type": "code",
   "execution_count": 12,
   "metadata": {},
   "outputs": [],
   "source": [
    "import pandas as pd\n",
    "import pyspark\n",
    "\n",
    "from pyspark.sql import SparkSession\n",
    "from pyspark.sql.functions import *\n",
    "from env import user, password, host, get_db_url"
   ]
  },
  {
   "cell_type": "markdown",
   "metadata": {},
   "source": [
    "# Data Acquisition\n",
    "\n",
    "These exercises should go in a notebook or script named wrangle. Add, commit, and push your changes.\n",
    "\n",
    "This exercises use the cases, dept, and source tables from the 311_data on the Codeup MySQL server."
   ]
  },
  {
   "cell_type": "markdown",
   "metadata": {},
   "source": [
    "# Read the case, department, and source data into their own spark dataframes.\n",
    "\n"
   ]
  },
  {
   "cell_type": "code",
   "execution_count": 13,
   "metadata": {},
   "outputs": [
    {
     "name": "stdout",
     "output_type": "stream",
     "text": [
      "22/10/22 05:12:46 WARN Utils: Your hostname, shorters-MacBook-Air.local resolves to a loopback address: 127.0.0.1; using 192.168.1.93 instead (on interface en0)\n",
      "22/10/22 05:12:46 WARN Utils: Set SPARK_LOCAL_IP if you need to bind to another address\n"
     ]
    },
    {
     "name": "stderr",
     "output_type": "stream",
     "text": [
      "Setting default log level to \"WARN\".\n",
      "To adjust logging level use sc.setLogLevel(newLevel). For SparkR, use setLogLevel(newLevel).\n"
     ]
    },
    {
     "name": "stdout",
     "output_type": "stream",
     "text": [
      "22/10/22 05:12:46 WARN NativeCodeLoader: Unable to load native-hadoop library for your platform... using builtin-java classes where applicable\n",
      "22/10/22 05:12:48 WARN Utils: Service 'SparkUI' could not bind on port 4040. Attempting port 4041.\n",
      "22/10/22 05:12:48 WARN Utils: Service 'SparkUI' could not bind on port 4041. Attempting port 4042.\n",
      "22/10/22 05:12:48 WARN Utils: Service 'SparkUI' could not bind on port 4042. Attempting port 4043.\n"
     ]
    }
   ],
   "source": [
    "spark = pyspark.sql.SparkSession.builder.getOrCreate()"
   ]
  },
  {
   "cell_type": "code",
   "execution_count": 8,
   "metadata": {},
   "outputs": [],
   "source": [
    "url = get_db_url('311_data')\n",
    "all_query = \"\"\"\n",
    "select *\n",
    "from source\n",
    "join cases \n",
    "using (source_id)\n",
    "join dept \n",
    "using(dept_division)\n",
    "\"\"\"\n",
    "cases_query = 'select * from cases'\n",
    "dept_query = 'select * from dept'\n",
    "source_query = 'select * from source'"
   ]
  },
  {
   "cell_type": "code",
   "execution_count": 5,
   "metadata": {},
   "outputs": [],
   "source": [
    "cases_df = pd.read_sql(cases_query, url)\n",
    "dept_df = pd.read_sql(dept_query, url)\n",
    "source_df = pd.read_sql(source_query, url)"
   ]
  },
  {
   "cell_type": "code",
   "execution_count": 14,
   "metadata": {},
   "outputs": [],
   "source": [
    "cases = spark.createDataFrame(cases_df)\n",
    "dept = spark.createDataFrame(dept_df)\n",
    "sources = spark.createDataFrame(source_df)"
   ]
  },
  {
   "cell_type": "code",
   "execution_count": null,
   "metadata": {},
   "outputs": [],
   "source": []
  },
  {
   "cell_type": "markdown",
   "metadata": {},
   "source": [
    "# Let's see how writing to the local disk works in spark:\n",
    "\n",
    "## Write the code necessary to store the source data in both csv and json format, store these as sources_csv and sources_json\n"
   ]
  },
  {
   "cell_type": "code",
   "execution_count": 15,
   "metadata": {},
   "outputs": [],
   "source": [
    "import os"
   ]
  },
  {
   "cell_type": "code",
   "execution_count": 17,
   "metadata": {},
   "outputs": [
    {
     "name": "stderr",
     "output_type": "stream",
     "text": [
      "                                                                                \r"
     ]
    }
   ],
   "source": [
    "sources.write.json('data/sources_json', mode='overwrite')"
   ]
  },
  {
   "cell_type": "code",
   "execution_count": 20,
   "metadata": {},
   "outputs": [
    {
     "name": "stdout",
     "output_type": "stream",
     "text": [
      "+-----+---------+--------------------+\n",
      "|index|source_id|     source_username|\n",
      "+-----+---------+--------------------+\n",
      "|    0|   100137|    Merlene Blodgett|\n",
      "|    1|   103582|         Carmen Cura|\n",
      "|    2|   106463|     Richard Sanchez|\n",
      "|    3|   119403|      Betty De Hoyos|\n",
      "|    4|   119555|      Socorro Quiara|\n",
      "|    5|   119868| Michelle San Miguel|\n",
      "|    6|   120752|      Eva T. Kleiber|\n",
      "|    7|   124405|           Lori Lara|\n",
      "|    8|   132408|       Leonard Silva|\n",
      "|    9|   135723|        Amy Cardenas|\n",
      "|   10|   136202|    Michelle Urrutia|\n",
      "|   11|   136979|      Leticia Garcia|\n",
      "|   12|   137943|    Pamela K. Baccus|\n",
      "|   13|   138605|        Marisa Ozuna|\n",
      "|   14|   138650|      Kimberly Green|\n",
      "|   15|   138650|Kimberly Green-Woods|\n",
      "|   16|   138793| Guadalupe Rodriguez|\n",
      "|   17|   138810|       Tawona Martin|\n",
      "|   18|   139342|     Jessica Mendoza|\n",
      "|   19|   139344|        Isis Mendoza|\n",
      "+-----+---------+--------------------+\n",
      "only showing top 20 rows\n",
      "\n"
     ]
    }
   ],
   "source": [
    "sources.show()"
   ]
  },
  {
   "cell_type": "code",
   "execution_count": 22,
   "metadata": {},
   "outputs": [
    {
     "name": "stderr",
     "output_type": "stream",
     "text": [
      "                                                                                \r"
     ]
    }
   ],
   "source": [
    "(\n",
    "    sources.write.format('csv')\n",
    "    .mode('overwrite')\n",
    "    .option('header', 'True')\n",
    "    .save('data/sources_csv')\n",
    ")"
   ]
  },
  {
   "cell_type": "markdown",
   "metadata": {},
   "source": [
    "## Inspect your folder structure. What do you notice?\n",
    "* Files split into numerous parts, both visible and non."
   ]
  },
  {
   "cell_type": "code",
   "execution_count": 23,
   "metadata": {},
   "outputs": [
    {
     "data": {
      "text/plain": [
       "['.part-00002-c4b24cd5-e4f5-4614-80ed-4f86e15af48b-c000.json.crc',\n",
       " 'part-00002-c4b24cd5-e4f5-4614-80ed-4f86e15af48b-c000.json',\n",
       " '.part-00001-c4b24cd5-e4f5-4614-80ed-4f86e15af48b-c000.json.crc',\n",
       " 'part-00007-c4b24cd5-e4f5-4614-80ed-4f86e15af48b-c000.json',\n",
       " '._SUCCESS.crc',\n",
       " '.part-00006-c4b24cd5-e4f5-4614-80ed-4f86e15af48b-c000.json.crc',\n",
       " 'part-00005-c4b24cd5-e4f5-4614-80ed-4f86e15af48b-c000.json',\n",
       " 'part-00000-c4b24cd5-e4f5-4614-80ed-4f86e15af48b-c000.json',\n",
       " '.part-00005-c4b24cd5-e4f5-4614-80ed-4f86e15af48b-c000.json.crc',\n",
       " 'part-00001-c4b24cd5-e4f5-4614-80ed-4f86e15af48b-c000.json',\n",
       " '.part-00003-c4b24cd5-e4f5-4614-80ed-4f86e15af48b-c000.json.crc',\n",
       " 'part-00004-c4b24cd5-e4f5-4614-80ed-4f86e15af48b-c000.json',\n",
       " '.part-00000-c4b24cd5-e4f5-4614-80ed-4f86e15af48b-c000.json.crc',\n",
       " '_SUCCESS',\n",
       " 'part-00006-c4b24cd5-e4f5-4614-80ed-4f86e15af48b-c000.json',\n",
       " '.part-00007-c4b24cd5-e4f5-4614-80ed-4f86e15af48b-c000.json.crc',\n",
       " '.part-00004-c4b24cd5-e4f5-4614-80ed-4f86e15af48b-c000.json.crc',\n",
       " 'part-00003-c4b24cd5-e4f5-4614-80ed-4f86e15af48b-c000.json']"
      ]
     },
     "execution_count": 23,
     "metadata": {},
     "output_type": "execute_result"
    }
   ],
   "source": [
    "json_files = os.listdir('data/mpg_json/')\n",
    "json_files"
   ]
  },
  {
   "cell_type": "markdown",
   "metadata": {},
   "source": [
    "# Inspect the data in your dataframes. \n",
    "    Are the data types appropriate? \n",
    "    Write the code necessary to cast the values to the appropriate types.\n",
    "\n"
   ]
  },
  {
   "cell_type": "markdown",
   "metadata": {},
   "source": [
    "## Are the data types appropriate?\n",
    "* Not all of them\n",
    "* Changes:\n",
    "    - datetime < -- > case opened, case closed, sla due date\n",
    "    - binary < -- > case late, case closed\n",
    "    - string < -- > council_district\n"
   ]
  },
  {
   "cell_type": "code",
   "execution_count": 28,
   "metadata": {},
   "outputs": [],
   "source": [
    "from pprint import pprint"
   ]
  },
  {
   "cell_type": "code",
   "execution_count": 30,
   "metadata": {},
   "outputs": [
    {
     "name": "stdout",
     "output_type": "stream",
     "text": [
      "22/10/22 06:11:46 WARN TaskSetManager: Stage 4 contains a task of very large size (18865 KiB). The maximum recommended task size is 1000 KiB.\n"
     ]
    },
    {
     "name": "stderr",
     "output_type": "stream",
     "text": [
      "[Stage 4:>                                                          (0 + 1) / 1]\r"
     ]
    },
    {
     "name": "stdout",
     "output_type": "stream",
     "text": [
      "22/10/22 06:11:51 WARN PythonRunner: Detected deadlock while completing task 0.0 in stage 4 (TID 18): Attempting to kill Python Worker\n"
     ]
    },
    {
     "name": "stderr",
     "output_type": "stream",
     "text": [
      "                                                                                \r"
     ]
    },
    {
     "name": "stdout",
     "output_type": "stream",
     "text": [
      "-RECORD 0------------------------------------\n",
      " case_id              | 1014127332           \n",
      " case_opened_date     | 1/1/18 0:42          \n",
      " case_closed_date     | 1/1/18 12:29         \n",
      " SLA_due_date         | 9/26/20 0:42         \n",
      " case_late            | NO                   \n",
      " num_days_late        | -998.5087616         \n",
      " case_closed          | YES                  \n",
      " dept_division        | Field Operations     \n",
      " service_request_type | Stray Animal         \n",
      " SLA_days             | 999.0                \n",
      " case_status          | Closed               \n",
      " source_id            | svcCRMLS             \n",
      " request_address      | 2315  EL PASO ST,... \n",
      " council_district     | 5                    \n",
      "only showing top 1 row\n",
      "\n",
      "None\n",
      "'---'\n",
      "-RECORD 0----------------------------------\n",
      " dept_division          | 311 Call Center  \n",
      " dept_name              | Customer Service \n",
      " standardized_dept_name | Customer Service \n",
      " dept_subject_to_SLA    | YES              \n",
      "only showing top 1 row\n",
      "\n",
      "None\n",
      "'---'\n",
      "-RECORD 0---------------------------\n",
      " index           | 0                \n",
      " source_id       | 100137           \n",
      " source_username | Merlene Blodgett \n",
      "only showing top 1 row\n",
      "\n",
      "None\n",
      "'---'\n"
     ]
    }
   ],
   "source": [
    "for subset in (cases, dept, sources):\n",
    "    pprint(subset.show(1, vertical=True))\n",
    "    pprint('---')"
   ]
  },
  {
   "cell_type": "code",
   "execution_count": 29,
   "metadata": {},
   "outputs": [
    {
     "name": "stdout",
     "output_type": "stream",
     "text": [
      "[('case_id', 'bigint'),\n",
      " ('case_opened_date', 'string'),\n",
      " ('case_closed_date', 'string'),\n",
      " ('SLA_due_date', 'string'),\n",
      " ('case_late', 'string'),\n",
      " ('num_days_late', 'double'),\n",
      " ('case_closed', 'string'),\n",
      " ('dept_division', 'string'),\n",
      " ('service_request_type', 'string'),\n",
      " ('SLA_days', 'double'),\n",
      " ('case_status', 'string'),\n",
      " ('source_id', 'string'),\n",
      " ('request_address', 'string'),\n",
      " ('council_district', 'bigint')]\n",
      "'---'\n",
      "[('dept_division', 'string'),\n",
      " ('dept_name', 'string'),\n",
      " ('standardized_dept_name', 'string'),\n",
      " ('dept_subject_to_SLA', 'string')]\n",
      "'---'\n",
      "[('index', 'bigint'), ('source_id', 'string'), ('source_username', 'string')]\n",
      "'---'\n"
     ]
    }
   ],
   "source": [
    "for subset in (cases, dept, sources):\n",
    "    pprint(subset.dtypes)\n",
    "    pprint('---')"
   ]
  },
  {
   "cell_type": "markdown",
   "metadata": {},
   "source": [
    "## Write the code necessary to cast the values to the appropriate types"
   ]
  },
  {
   "cell_type": "code",
   "execution_count": 37,
   "metadata": {},
   "outputs": [],
   "source": [
    "#start with booleans --> change\n",
    "# for subset in ('case_late', 'case_closed'):\n",
    "#     cases.select(subset).distinct().show()\n",
    "\n",
    "# cases.withColumn('case_closed',\n",
    "#                 expr('case_closed == \"YES\"')\n",
    "#                 ).select('case_closed').distinct().show()\n",
    "\n",
    "for subset in ('case_late', 'case_closed'):\n",
    "    cases = cases.withColumn(f'{subset}',\n",
    "            expr(f'{subset} == \"YES\"')\n",
    "                    )\n",
    "\n",
    "# cases.select('case_late').show(5)"
   ]
  },
  {
   "cell_type": "code",
   "execution_count": 45,
   "metadata": {},
   "outputs": [],
   "source": [
    "#convert date times\n",
    "\n",
    "# for subset in ('case_opened_date', 'case_closed_date', 'SLA_due_date'):\n",
    "#     cases.select(subset).show(1)\n",
    "\n",
    "for subset in ('case_opened_date', 'case_closed_date', 'SLA_due_date'):\n",
    "    cases = cases.withColumn(f'{subset}', to_timestamp(subset, 'M/d/yy H:m'))\n",
    "    #use --> .select(f'{subset}').show() --> to view results before assignment"
   ]
  },
  {
   "cell_type": "code",
   "execution_count": 50,
   "metadata": {},
   "outputs": [],
   "source": [
    "cases = cases.withColumn('council_district', col('council_district').cast('string'))"
   ]
  },
  {
   "cell_type": "markdown",
   "metadata": {},
   "source": [
    "# How old is the latest (overdue: in terms of days past SLA) currently open issue? \n"
   ]
  },
  {
   "cell_type": "code",
   "execution_count": 86,
   "metadata": {},
   "outputs": [
    {
     "name": "stdout",
     "output_type": "stream",
     "text": [
      "22/10/23 05:34:10 WARN TaskSetManager: Stage 60 contains a task of very large size (18865 KiB). The maximum recommended task size is 1000 KiB.\n"
     ]
    },
    {
     "name": "stderr",
     "output_type": "stream",
     "text": [
      "[Stage 60:>                                                         (0 + 8) / 8]\r"
     ]
    },
    {
     "name": "stdout",
     "output_type": "stream",
     "text": [
      "+------------------+-----------+-------------------+\n",
      "|     num_days_late|   SLA_days|   case_opened_date|\n",
      "+------------------+-----------+-------------------+\n",
      "|       348.6458333|15.77247685|2017-01-01 13:57:00|\n",
      "|       348.6458333|15.77859954|2017-01-01 13:48:00|\n",
      "|348.52356480000003|       15.0|2017-01-02 11:26:00|\n",
      "|347.58256939999995|       15.0|2017-01-03 10:01:00|\n",
      "|       345.3894213|       15.0|2017-01-05 14:39:00|\n",
      "|       341.6458333|9.899560185|2017-01-14 10:54:00|\n",
      "|       341.4006481|        7.0|2017-01-17 14:23:00|\n",
      "|       340.6083333|       15.0|2017-01-10 09:24:00|\n",
      "|       339.6458333|15.58215278|2017-01-10 18:31:00|\n",
      "+------------------+-----------+-------------------+\n",
      "only showing top 9 rows\n",
      "\n"
     ]
    },
    {
     "name": "stderr",
     "output_type": "stream",
     "text": [
      "                                                                                \r"
     ]
    }
   ],
   "source": [
    "#first find currently open issues --> need case_opened_date, num_days_late, case_closed\n",
    "(\n",
    "    cases.select('num_days_late', 'SLA_days', 'case_opened_date')\n",
    "         .where('case_closed == False')\n",
    "         .where('num_days_late > 0')\n",
    "         .where('num_days_late != \"NaN\"') # --> NaN is string here, so requires double quotes\n",
    "         .sort('num_days_late', ascending=False)\n",
    "         .show(9)\n",
    ")"
   ]
  },
  {
   "cell_type": "markdown",
   "metadata": {},
   "source": [
    "# How long has the oldest (in terms of days since opened) currently opened issue been open?\n"
   ]
  },
  {
   "cell_type": "markdown",
   "metadata": {},
   "source": [
    "# How many Stray Animal cases are there?\n",
    "* 26760"
   ]
  },
  {
   "cell_type": "code",
   "execution_count": 95,
   "metadata": {},
   "outputs": [
    {
     "name": "stdout",
     "output_type": "stream",
     "text": [
      "22/10/23 06:01:15 WARN TaskSetManager: Stage 79 contains a task of very large size (18865 KiB). The maximum recommended task size is 1000 KiB.\n"
     ]
    },
    {
     "name": "stderr",
     "output_type": "stream",
     "text": [
      "[Stage 79:>                                                         (0 + 8) / 8]\r"
     ]
    },
    {
     "name": "stdout",
     "output_type": "stream",
     "text": [
      "+--------------------+-----+\n",
      "|service_request_type|count|\n",
      "+--------------------+-----+\n",
      "|        Stray Animal|26760|\n",
      "+--------------------+-----+\n",
      "\n"
     ]
    },
    {
     "name": "stderr",
     "output_type": "stream",
     "text": [
      "                                                                                \r"
     ]
    }
   ],
   "source": [
    "#cases.select('service_request_type').show(1, vertical=True)\n",
    "(\n",
    "    cases.select('service_request_type')\n",
    "        .where('service_request_type == \"Stray Animal\"')\n",
    "        .groupBy('service_request_type')\n",
    "        .count()\n",
    "        .show()\n",
    ")"
   ]
  },
  {
   "cell_type": "markdown",
   "metadata": {},
   "source": [
    "# How many service requests that are assigned to the Field Operations department (dept_division) are not classified as \"Officer Standby\" request type (service_request_type)?\n",
    "* 113902\n",
    "\n"
   ]
  },
  {
   "cell_type": "code",
   "execution_count": 97,
   "metadata": {},
   "outputs": [
    {
     "name": "stdout",
     "output_type": "stream",
     "text": [
      "22/10/23 06:03:25 WARN TaskSetManager: Stage 82 contains a task of very large size (18865 KiB). The maximum recommended task size is 1000 KiB.\n"
     ]
    },
    {
     "name": "stderr",
     "output_type": "stream",
     "text": [
      "                                                                                \r"
     ]
    },
    {
     "data": {
      "text/plain": [
       "113902"
      ]
     },
     "execution_count": 97,
     "metadata": {},
     "output_type": "execute_result"
    }
   ],
   "source": [
    "(\n",
    "    cases.select('service_request_type')\n",
    "        .where('dept_division == \"Field Operations\"')\n",
    "        .where('service_request_type != \"Officer Standby\"')\n",
    "        .count()\n",
    ")"
   ]
  },
  {
   "cell_type": "markdown",
   "metadata": {},
   "source": [
    "# Convert the council_district column to a string column. --> Converted in work above"
   ]
  },
  {
   "cell_type": "markdown",
   "metadata": {},
   "source": [
    "# Extract the year from the case_closed_date column.\n"
   ]
  },
  {
   "cell_type": "code",
   "execution_count": 99,
   "metadata": {},
   "outputs": [
    {
     "name": "stdout",
     "output_type": "stream",
     "text": [
      "22/10/23 06:51:42 WARN TaskSetManager: Stage 85 contains a task of very large size (18865 KiB). The maximum recommended task size is 1000 KiB.\n"
     ]
    },
    {
     "name": "stderr",
     "output_type": "stream",
     "text": [
      "[Stage 85:>                                                         (0 + 1) / 1]\r"
     ]
    },
    {
     "name": "stdout",
     "output_type": "stream",
     "text": [
      "22/10/23 06:51:46 WARN PythonRunner: Detected deadlock while completing task 0.0 in stage 85 (TID 324): Attempting to kill Python Worker\n",
      "-RECORD 0------------------------------------\n",
      " case_id              | 1014127332           \n",
      " case_opened_date     | 2018-01-01 00:42:00  \n",
      " case_closed_date     | 2018-01-01 12:29:00  \n",
      " SLA_due_date         | 2020-09-26 00:42:00  \n",
      " case_late            | false                \n",
      " num_days_late        | -998.5087616         \n",
      " case_closed          | true                 \n",
      " dept_division        | Field Operations     \n",
      " service_request_type | Stray Animal         \n",
      " SLA_days             | 999.0                \n",
      " case_status          | Closed               \n",
      " source_id            | svcCRMLS             \n",
      " request_address      | 2315  EL PASO ST,... \n",
      " council_district     | 5                    \n",
      "only showing top 1 row\n",
      "\n"
     ]
    },
    {
     "name": "stderr",
     "output_type": "stream",
     "text": [
      "                                                                                \r"
     ]
    }
   ],
   "source": [
    "cases.show(1, vertical=True)"
   ]
  },
  {
   "cell_type": "code",
   "execution_count": 117,
   "metadata": {},
   "outputs": [],
   "source": [
    "#remember to put the slash before the d\n",
    "cases = cases.withColumn('year', regexp_extract('case_closed_date', r'^\\d+' , 0))#.select('year').show(1)"
   ]
  },
  {
   "cell_type": "markdown",
   "metadata": {},
   "source": [
    "# Convert num_days_late from days to hours in new columns num_hours_late.\n",
    "\n"
   ]
  },
  {
   "cell_type": "code",
   "execution_count": 120,
   "metadata": {},
   "outputs": [],
   "source": [
    "cases = cases.withColumn('num_hours_late', expr('num_days_late * 24'))#.select('num_hours_late').show()"
   ]
  },
  {
   "cell_type": "markdown",
   "metadata": {},
   "source": [
    "# Join the case data with the source and department data."
   ]
  },
  {
   "cell_type": "code",
   "execution_count": 121,
   "metadata": {},
   "outputs": [
    {
     "name": "stdout",
     "output_type": "stream",
     "text": [
      "-RECORD 0---------------------------\n",
      " index           | 0                \n",
      " source_id       | 100137           \n",
      " source_username | Merlene Blodgett \n",
      "only showing top 1 row\n",
      "\n"
     ]
    }
   ],
   "source": [
    "# sources.show(1, vertical=True)\n",
    "# dept.show(1, vertical=True)\n",
    "# cases.show(1, vertical=True)\n",
    "cases = cases.join(dept, 'dept_division', 'left')"
   ]
  },
  {
   "cell_type": "code",
   "execution_count": 127,
   "metadata": {},
   "outputs": [],
   "source": [
    "cases = cases.join(sources, 'source_id', 'left')"
   ]
  },
  {
   "cell_type": "markdown",
   "metadata": {},
   "source": [
    "# Are there any cases that do not have a request source?\n",
    "\n",
    "* no\n",
    "\n"
   ]
  },
  {
   "cell_type": "code",
   "execution_count": 130,
   "metadata": {},
   "outputs": [
    {
     "name": "stdout",
     "output_type": "stream",
     "text": [
      "22/10/23 07:27:03 WARN TaskSetManager: Stage 113 contains a task of very large size (18865 KiB). The maximum recommended task size is 1000 KiB.\n"
     ]
    },
    {
     "name": "stderr",
     "output_type": "stream",
     "text": [
      "[Stage 114:==============>  (7 + 1) / 8][Stage 115:>                (0 + 8) / 8]\r"
     ]
    },
    {
     "name": "stdout",
     "output_type": "stream",
     "text": [
      "+---------+-------------+-------+----------------+----------------+------------+---------+-------------+-----------+--------------------+--------+-----------+---------------+----------------+----+--------------+---------+----------------------+-------------------+-----+---------------+\n",
      "|source_id|dept_division|case_id|case_opened_date|case_closed_date|SLA_due_date|case_late|num_days_late|case_closed|service_request_type|SLA_days|case_status|request_address|council_district|year|num_hours_late|dept_name|standardized_dept_name|dept_subject_to_SLA|index|source_username|\n",
      "+---------+-------------+-------+----------------+----------------+------------+---------+-------------+-----------+--------------------+--------+-----------+---------------+----------------+----+--------------+---------+----------------------+-------------------+-----+---------------+\n",
      "+---------+-------------+-------+----------------+----------------+------------+---------+-------------+-----------+--------------------+--------+-----------+---------------+----------------+----+--------------+---------+----------------------+-------------------+-----+---------------+\n",
      "\n"
     ]
    }
   ],
   "source": [
    "cases.filter(cases.source_id.isNull()).show()"
   ]
  },
  {
   "cell_type": "markdown",
   "metadata": {},
   "source": [
    "# What are the top 10 service request types in terms of number of requests?\n",
    "\n"
   ]
  },
  {
   "cell_type": "code",
   "execution_count": 133,
   "metadata": {},
   "outputs": [
    {
     "name": "stdout",
     "output_type": "stream",
     "text": [
      "22/10/23 07:29:47 WARN TaskSetManager: Stage 140 contains a task of very large size (18865 KiB). The maximum recommended task size is 1000 KiB.\n"
     ]
    },
    {
     "name": "stderr",
     "output_type": "stream",
     "text": [
      "                                                                                \r"
     ]
    },
    {
     "name": "stdout",
     "output_type": "stream",
     "text": [
      "+--------------------+-----+\n",
      "|service_request_type|count|\n",
      "+--------------------+-----+\n",
      "|           No Pickup|89210|\n",
      "|Overgrown Yard/Trash|66403|\n",
      "|        Bandit Signs|32968|\n",
      "|        Damaged Cart|31163|\n",
      "|Front Or Side Yar...|28920|\n",
      "|        Stray Animal|27361|\n",
      "|Aggressive Animal...|25492|\n",
      "|Cart Exchange Req...|22608|\n",
      "|Junk Vehicle On P...|21649|\n",
      "|     Pot Hole Repair|20827|\n",
      "+--------------------+-----+\n",
      "only showing top 10 rows\n",
      "\n"
     ]
    }
   ],
   "source": [
    "(\n",
    "    cases.select('service_request_type')\n",
    "        .groupBy('service_request_type')\n",
    "        .count()\n",
    "        .sort('count', ascending=False)\n",
    "        .show(10)\n",
    ")"
   ]
  },
  {
   "cell_type": "markdown",
   "metadata": {},
   "source": [
    "# What are the top 10 service request types in terms of average days late?\n"
   ]
  },
  {
   "cell_type": "code",
   "execution_count": 135,
   "metadata": {},
   "outputs": [
    {
     "name": "stdout",
     "output_type": "stream",
     "text": [
      "22/10/23 07:32:18 WARN TaskSetManager: Stage 152 contains a task of very large size (18865 KiB). The maximum recommended task size is 1000 KiB.\n"
     ]
    },
    {
     "name": "stderr",
     "output_type": "stream",
     "text": [
      "                                                                                \r"
     ]
    },
    {
     "name": "stdout",
     "output_type": "stream",
     "text": [
      "+--------------------+------------------+\n",
      "|service_request_type|avg(num_days_late)|\n",
      "+--------------------+------------------+\n",
      "|Request for Resea...|               NaN|\n",
      "|CCO_Request for R...|               NaN|\n",
      "|  Zoning: Junk Yards| 175.9563621042095|\n",
      "|Labeling for Used...|162.43032902285717|\n",
      "|Record Keeping of...| 153.9972403942857|\n",
      "|Signage Requied f...|151.63868055333333|\n",
      "|Storage of Used M...|     142.112556415|\n",
      "|Zoning: Recycle Yard|  135.928516124798|\n",
      "|Donation Containe...|131.75610506358706|\n",
      "|License Requied U...|128.79828704142858|\n",
      "+--------------------+------------------+\n",
      "only showing top 10 rows\n",
      "\n"
     ]
    }
   ],
   "source": [
    "(\n",
    "    cases.select('service_request_type', 'num_days_late')\n",
    "        .groupBy('service_request_type')\n",
    "        .avg()\n",
    "        .sort('avg(num_days_late)', ascending=False)\n",
    "        .show(10)\n",
    ")"
   ]
  },
  {
   "cell_type": "markdown",
   "metadata": {},
   "source": [
    "# Does number of days late depend on department?\n"
   ]
  },
  {
   "cell_type": "code",
   "execution_count": 138,
   "metadata": {},
   "outputs": [
    {
     "name": "stdout",
     "output_type": "stream",
     "text": [
      "22/10/23 07:50:43 WARN TaskSetManager: Stage 173 contains a task of very large size (18865 KiB). The maximum recommended task size is 1000 KiB.\n"
     ]
    },
    {
     "name": "stderr",
     "output_type": "stream",
     "text": [
      "[Stage 173:=================================================>       (7 + 1) / 8]\r"
     ]
    },
    {
     "name": "stdout",
     "output_type": "stream",
     "text": [
      "+--------------------+------------------+\n",
      "|       dept_division|avg(num_days_late)|\n",
      "+--------------------+------------------+\n",
      "|          District 6|               NaN|\n",
      "|          District 8|               NaN|\n",
      "|          District 2|               NaN|\n",
      "|          District 3|               NaN|\n",
      "|          District 1|               NaN|\n",
      "|         District 10|               NaN|\n",
      "|          District 7|               NaN|\n",
      "|          District 9|               NaN|\n",
      "|Code Enforcement ...|135.92851612479794|\n",
      "|        Reservations|       66.03116319|\n",
      "+--------------------+------------------+\n",
      "only showing top 10 rows\n",
      "\n"
     ]
    },
    {
     "name": "stderr",
     "output_type": "stream",
     "text": [
      "                                                                                \r"
     ]
    }
   ],
   "source": [
    "(\n",
    "    cases.select('dept_division', 'num_days_late')\n",
    "        .groupBy('dept_division')\n",
    "        .avg()\n",
    "        .sort('avg(num_days_late)', ascending=False)\n",
    "        .show(10)\n",
    ")"
   ]
  },
  {
   "cell_type": "markdown",
   "metadata": {},
   "source": [
    "# How do number of days late depend on department and request type?"
   ]
  },
  {
   "cell_type": "code",
   "execution_count": 140,
   "metadata": {},
   "outputs": [
    {
     "name": "stdout",
     "output_type": "stream",
     "text": [
      "22/10/23 07:52:01 WARN TaskSetManager: Stage 191 contains a task of very large size (18865 KiB). The maximum recommended task size is 1000 KiB.\n"
     ]
    },
    {
     "name": "stderr",
     "output_type": "stream",
     "text": [
      "[Stage 191:=================================================>       (7 + 1) / 8]\r"
     ]
    },
    {
     "name": "stdout",
     "output_type": "stream",
     "text": [
      "+--------------------+------------------+\n",
      "|       dept_division|avg(num_days_late)|\n",
      "+--------------------+------------------+\n",
      "|          District 2|               NaN|\n",
      "|          District 8|               NaN|\n",
      "|         District 10|               NaN|\n",
      "|          District 7|               NaN|\n",
      "|          District 3|               NaN|\n",
      "|          District 1|               NaN|\n",
      "|          District 6|               NaN|\n",
      "|          District 9|               NaN|\n",
      "|Code Enforcement ...|135.92851612479794|\n",
      "|        Reservations|       66.03116319|\n",
      "+--------------------+------------------+\n",
      "only showing top 10 rows\n",
      "\n"
     ]
    },
    {
     "name": "stderr",
     "output_type": "stream",
     "text": [
      "                                                                                \r"
     ]
    }
   ],
   "source": [
    "(\n",
    "    cases.select('dept_division', 'service_request_type','num_days_late')\n",
    "        .groupBy('dept_division')\n",
    "        .avg()\n",
    "        .sort('avg(num_days_late)', ascending=False)\n",
    "        .show(10)\n",
    ")"
   ]
  },
  {
   "cell_type": "code",
   "execution_count": null,
   "metadata": {},
   "outputs": [],
   "source": []
  }
 ],
 "metadata": {
  "kernelspec": {
   "display_name": "Python 3.9.12 ('base')",
   "language": "python",
   "name": "python3"
  },
  "language_info": {
   "codemirror_mode": {
    "name": "ipython",
    "version": 3
   },
   "file_extension": ".py",
   "mimetype": "text/x-python",
   "name": "python",
   "nbconvert_exporter": "python",
   "pygments_lexer": "ipython3",
   "version": "3.9.12"
  },
  "orig_nbformat": 4,
  "vscode": {
   "interpreter": {
    "hash": "38cca0c38332a56087b24af0bc80247f4fced29cb4f7f437d91dc159adec9c4e"
   }
  }
 },
 "nbformat": 4,
 "nbformat_minor": 2
}
