{
 "cells": [
  {
   "cell_type": "markdown",
   "metadata": {},
   "source": [
    "## Exercises\n",
    "\n",
    "Using the [repo setup directions](https://ds.codeup.com/fundamentals/git/), setup a new local and remote repository named `spark-exercises`. The local version of your repo should live inside of `~/codeup-data-science`. This repo should be named `spark-exercises`\n",
    "\n",
    "Save this work in your `spark-exercises` repo. Then add, commit, and push your changes.\n",
    "\n",
    "Create a jupyter notebook or python script named `spark101` for this exercise.\n",
    "\n"
   ]
  },
  {
   "cell_type": "markdown",
   "metadata": {},
   "source": [
    "# imports "
   ]
  },
  {
   "cell_type": "code",
   "execution_count": 1,
   "metadata": {},
   "outputs": [],
   "source": [
    "import pyspark\n",
    "\n",
    "#create spark session builder\n",
    "spark = pyspark.sql.SparkSession.builder.getOrCreate()"
   ]
  },
  {
   "cell_type": "markdown",
   "metadata": {},
   "source": [
    "# 1. Create a spark data frame that contains your favorite programming languages.\n",
    "\n",
    "    - The name of the column should be `language`\n",
    "    - View the schema of the dataframe\n",
    "    - Output the shape of the dataframe\n",
    "    - Show the first 5 records in the dataframe\n",
    "\n"
   ]
  },
  {
   "cell_type": "code",
   "execution_count": 11,
   "metadata": {},
   "outputs": [
    {
     "data": {
      "text/plain": [
       "DataFrame[language: string, projects: bigint]"
      ]
     },
     "execution_count": 11,
     "metadata": {},
     "output_type": "execute_result"
    }
   ],
   "source": [
    "from pyspark.sql import Row\n",
    "\n",
    "fav_language = spark.createDataFrame([\n",
    "    Row(language='python', projects=5),\n",
    "    Row(language='swift', projects=2),\n",
    "    Row(language='javascript', projects=1),\n",
    "    Row(language='basic', projects=1),\n",
    "    Row(language='r', projects=0),\n",
    "    Row(language='c++', projects=0)\n",
    "    ])\n",
    "fav_language"
   ]
  },
  {
   "cell_type": "code",
   "execution_count": 7,
   "metadata": {},
   "outputs": [
    {
     "name": "stdout",
     "output_type": "stream",
     "text": [
      "root\n",
      " |-- language: string (nullable = true)\n",
      " |-- projects: long (nullable = true)\n",
      "\n"
     ]
    }
   ],
   "source": [
    "#view schema of data frame\n",
    "fav_language.printSchema()"
   ]
  },
  {
   "cell_type": "code",
   "execution_count": 9,
   "metadata": {},
   "outputs": [
    {
     "name": "stdout",
     "output_type": "stream",
     "text": [
      "6 rows 2 columns\n"
     ]
    }
   ],
   "source": [
    "#output shape of dataframe\n",
    "#count gives number of rows, , len of df.columns gives number of columns\n",
    "print(fav_language.count(), 'rows', len(fav_language.columns), 'columns')"
   ]
  },
  {
   "cell_type": "code",
   "execution_count": 13,
   "metadata": {},
   "outputs": [
    {
     "name": "stdout",
     "output_type": "stream",
     "text": [
      "+----------+--------+\n",
      "|  language|projects|\n",
      "+----------+--------+\n",
      "|    python|       5|\n",
      "|     swift|       2|\n",
      "|javascript|       1|\n",
      "|     basic|       1|\n",
      "|         r|       0|\n",
      "+----------+--------+\n",
      "only showing top 5 rows\n",
      "\n"
     ]
    }
   ],
   "source": [
    "#show the first 5 records in the data frame\n",
    "fav_language.show(5)"
   ]
  },
  {
   "cell_type": "markdown",
   "metadata": {},
   "source": [
    "# Load the `mpg` dataset as a spark dataframe.\n",
    "\n",
    "    * Create 1 column of output that contains a message like the one below for each vehicle:\n",
    "\n",
    "            The 1999 audi a4 has a 4 cylinder engine.\n",
    "\n",
    "    * Transform the `trans` column so that it only contains either `manual` or `auto`.\n",
    "---\n"
   ]
  },
  {
   "cell_type": "code",
   "execution_count": 18,
   "metadata": {},
   "outputs": [],
   "source": [
    "from pydataset import data\n",
    "\n",
    "#import functions to use concat, sum, avg, min, max, ocount,  mean,  concat, and lit, regexpt_extract, regexp_replace\n",
    "import pyspark.sql.functions as F\n",
    "\n",
    "\n",
    "mpg = spark.createDataFrame(data('mpg'))"
   ]
  },
  {
   "cell_type": "markdown",
   "metadata": {},
   "source": [
    "## Create 1 column of output that contains a message for each vehicle:"
   ]
  },
  {
   "cell_type": "code",
   "execution_count": 21,
   "metadata": {},
   "outputs": [
    {
     "name": "stdout",
     "output_type": "stream",
     "text": [
      "+------------------------------------------------------------------------+\n",
      "|concat(The , year, manufacturer, model,  has a , cyl,  cylinder engine.)|\n",
      "+------------------------------------------------------------------------+\n",
      "|The 1999audia4 has a 4 cylinder engine.                                 |\n",
      "|The 1999audia4 has a 4 cylinder engine.                                 |\n",
      "|The 2008audia4 has a 4 cylinder engine.                                 |\n",
      "|The 2008audia4 has a 4 cylinder engine.                                 |\n",
      "|The 1999audia4 has a 6 cylinder engine.                                 |\n",
      "+------------------------------------------------------------------------+\n",
      "only showing top 5 rows\n",
      "\n"
     ]
    }
   ],
   "source": [
    "(mpg.select(F.concat(F.lit('The '), mpg.year, mpg.manufacturer, mpg.model, F.lit(' has a '), mpg.cyl, F.lit(' cylinder engine.') ))).show(5, truncate=False)"
   ]
  },
  {
   "cell_type": "markdown",
   "metadata": {},
   "source": [
    "## Transform the `trans` column so that it only contains either `manual` or `auto`"
   ]
  },
  {
   "cell_type": "code",
   "execution_count": 22,
   "metadata": {},
   "outputs": [
    {
     "name": "stdout",
     "output_type": "stream",
     "text": [
      "+----------+\n",
      "|     trans|\n",
      "+----------+\n",
      "|  auto(l5)|\n",
      "|manual(m5)|\n",
      "|manual(m6)|\n",
      "+----------+\n",
      "only showing top 3 rows\n",
      "\n"
     ]
    }
   ],
   "source": [
    "mpg.select('trans').show(3)"
   ]
  },
  {
   "cell_type": "code",
   "execution_count": 50,
   "metadata": {},
   "outputs": [
    {
     "name": "stdout",
     "output_type": "stream",
     "text": [
      "+----------+---------------------------------------------------------+\n",
      "|     trans|CASE WHEN contains(trans, auto) THEN auto ELSE manual END|\n",
      "+----------+---------------------------------------------------------+\n",
      "|  auto(l5)|                                                     auto|\n",
      "|manual(m5)|                                                   manual|\n",
      "|manual(m6)|                                                   manual|\n",
      "|  auto(av)|                                                     auto|\n",
      "|  auto(l5)|                                                     auto|\n",
      "|manual(m5)|                                                   manual|\n",
      "|  auto(av)|                                                     auto|\n",
      "|manual(m5)|                                                   manual|\n",
      "|  auto(l5)|                                                     auto|\n",
      "|manual(m6)|                                                   manual|\n",
      "|  auto(s6)|                                                     auto|\n",
      "|  auto(l5)|                                                     auto|\n",
      "|manual(m5)|                                                   manual|\n",
      "|  auto(s6)|                                                     auto|\n",
      "|manual(m6)|                                                   manual|\n",
      "|  auto(l5)|                                                     auto|\n",
      "|  auto(s6)|                                                     auto|\n",
      "|  auto(s6)|                                                     auto|\n",
      "|  auto(l4)|                                                     auto|\n",
      "|  auto(l4)|                                                     auto|\n",
      "+----------+---------------------------------------------------------+\n",
      "only showing top 20 rows\n",
      "\n"
     ]
    }
   ],
   "source": [
    "mpg.select('trans',\n",
    "    F.when(mpg.trans.contains('auto'), 'auto')\n",
    "    .otherwise('manual')).show(20)"
   ]
  },
  {
   "cell_type": "code",
   "execution_count": 53,
   "metadata": {},
   "outputs": [
    {
     "name": "stdout",
     "output_type": "stream",
     "text": [
      "+----------+--------+\n",
      "|     trans|attempts|\n",
      "+----------+--------+\n",
      "|  auto(l5)|    auto|\n",
      "|manual(m5)|  manual|\n",
      "|manual(m6)|  manual|\n",
      "+----------+--------+\n",
      "only showing top 3 rows\n",
      "\n"
     ]
    }
   ],
   "source": [
    "mpg.select('trans', F.regexp_extract('trans', r'^(\\w+)', 1).alias('attempts')).show(3)"
   ]
  },
  {
   "cell_type": "code",
   "execution_count": null,
   "metadata": {},
   "outputs": [],
   "source": []
  },
  {
   "cell_type": "code",
   "execution_count": null,
   "metadata": {},
   "outputs": [],
   "source": []
  },
  {
   "cell_type": "markdown",
   "metadata": {},
   "source": [
    "# 1. Load the `tips` dataset as a spark dataframe.\n",
    "\n",
    "    1. What percentage of observations are smokers?\n",
    "    1. Create a column that contains the tip percentage\n",
    "    1. Calculate the average tip percentage for each combination of sex and smoker.\n",
    "\n"
   ]
  },
  {
   "cell_type": "code",
   "execution_count": 54,
   "metadata": {},
   "outputs": [],
   "source": [
    "tips = spark.createDataFrame(data('tips'))"
   ]
  },
  {
   "cell_type": "code",
   "execution_count": 55,
   "metadata": {},
   "outputs": [
    {
     "name": "stdout",
     "output_type": "stream",
     "text": [
      "root\n",
      " |-- total_bill: double (nullable = true)\n",
      " |-- tip: double (nullable = true)\n",
      " |-- sex: string (nullable = true)\n",
      " |-- smoker: string (nullable = true)\n",
      " |-- day: string (nullable = true)\n",
      " |-- time: string (nullable = true)\n",
      " |-- size: long (nullable = true)\n",
      "\n"
     ]
    }
   ],
   "source": [
    "#similar to df.info\n",
    "tips.printSchema()\n",
    "#what is a double data type?"
   ]
  },
  {
   "cell_type": "markdown",
   "metadata": {},
   "source": [
    "## What Percentage of observations are smokers?"
   ]
  },
  {
   "cell_type": "code",
   "execution_count": 68,
   "metadata": {},
   "outputs": [
    {
     "data": {
      "text/plain": [
       "0.38114754098360654"
      ]
     },
     "execution_count": 68,
     "metadata": {},
     "output_type": "execute_result"
    }
   ],
   "source": [
    "#tips.rollup(tips.smoker== 'Yes').count().show()\n",
    "#tips.groupBy(tips.smoker).agg(F.sum(tips.smoker == 'Yes')).show() --> not good\n",
    "tips.filter(tips.smoker == 'Yes').count()/tips.count()"
   ]
  },
  {
   "cell_type": "code",
   "execution_count": 139,
   "metadata": {},
   "outputs": [
    {
     "name": "stdout",
     "output_type": "stream",
     "text": [
      "+------+-----+-------+\n",
      "|smoker|count|percent|\n",
      "+------+-----+-------+\n",
      "|    No|  151|   62.0|\n",
      "|   Yes|   93|   38.0|\n",
      "+------+-----+-------+\n",
      "\n"
     ]
    }
   ],
   "source": [
    "tips.groupBy('smoker').count().withColumn(\n",
    "    'percent', F.round(\n",
    "        F.col('count')/tips.count() *100)).show()"
   ]
  },
  {
   "cell_type": "markdown",
   "metadata": {},
   "source": [
    "## Create a column that contains the tip percentage?"
   ]
  },
  {
   "cell_type": "code",
   "execution_count": 82,
   "metadata": {},
   "outputs": [
    {
     "name": "stdout",
     "output_type": "stream",
     "text": [
      "+----------+----+--------------+\n",
      "|total_bill| tip|tip_percentage|\n",
      "+----------+----+--------------+\n",
      "|     16.99|1.01|          0.06|\n",
      "|     10.34|1.66|          0.16|\n",
      "|     21.01| 3.5|          0.17|\n",
      "|     23.68|3.31|          0.14|\n",
      "|     24.59|3.61|          0.15|\n",
      "+----------+----+--------------+\n",
      "only showing top 5 rows\n",
      "\n"
     ]
    }
   ],
   "source": [
    "col1 = F.round((tips.tip/tips.total_bill),2).alias('tip_percentage')\n",
    "tips.select(tips.total_bill, tips.tip, col1).show(5)"
   ]
  },
  {
   "cell_type": "markdown",
   "metadata": {},
   "source": [
    "## Calculate the average tip percentage for each combination of sex and smoker.\n"
   ]
  },
  {
   "cell_type": "code",
   "execution_count": 145,
   "metadata": {},
   "outputs": [
    {
     "name": "stderr",
     "output_type": "stream",
     "text": [
      "[Stage 156:===================================>                     (5 + 3) / 8]\r"
     ]
    },
    {
     "name": "stdout",
     "output_type": "stream",
     "text": [
      "+------+---+---+\n",
      "|   sex| No|Yes|\n",
      "+------+---+---+\n",
      "|Female|0.0|0.0|\n",
      "|  Male|0.0|0.0|\n",
      "+------+---+---+\n",
      "\n"
     ]
    },
    {
     "name": "stderr",
     "output_type": "stream",
     "text": [
      "                                                                                \r"
     ]
    }
   ],
   "source": [
    "tips.groupby('sex').pivot('smoker').agg(F.round(F.mean(tips.tip/tips.total_bill))).show()"
   ]
  },
  {
   "cell_type": "code",
   "execution_count": null,
   "metadata": {},
   "outputs": [],
   "source": []
  },
  {
   "cell_type": "code",
   "execution_count": 144,
   "metadata": {},
   "outputs": [
    {
     "name": "stdout",
     "output_type": "stream",
     "text": [
      "+----------+----+------+------+---+------+----+------------------+\n",
      "|total_bill| tip|   sex|smoker|day|  time|size|       tip_percent|\n",
      "+----------+----+------+------+---+------+----+------------------+\n",
      "|     16.99|1.01|Female|    No|Sun|Dinner|   2|              5.94|\n",
      "|     10.34|1.66|  Male|    No|Sun|Dinner|   3|             16.05|\n",
      "|     21.01| 3.5|  Male|    No|Sun|Dinner|   3|             16.66|\n",
      "|     23.68|3.31|  Male|    No|Sun|Dinner|   2|             13.98|\n",
      "|     24.59|3.61|Female|    No|Sun|Dinner|   4|14.680000000000001|\n",
      "|     25.29|4.71|  Male|    No|Sun|Dinner|   4|             18.62|\n",
      "|      8.77| 2.0|  Male|    No|Sun|Dinner|   2|             22.81|\n",
      "|     26.88|3.12|  Male|    No|Sun|Dinner|   4|             11.61|\n",
      "|     15.04|1.96|  Male|    No|Sun|Dinner|   2|             13.03|\n",
      "|     14.78|3.23|  Male|    No|Sun|Dinner|   2|             21.85|\n",
      "|     10.27|1.71|  Male|    No|Sun|Dinner|   2|16.650000000000002|\n",
      "|     35.26| 5.0|Female|    No|Sun|Dinner|   4|14.180000000000001|\n",
      "|     15.42|1.57|  Male|    No|Sun|Dinner|   2|             10.18|\n",
      "|     18.43| 3.0|  Male|    No|Sun|Dinner|   4|             16.28|\n",
      "|     14.83|3.02|Female|    No|Sun|Dinner|   2|             20.36|\n",
      "|     21.58|3.92|  Male|    No|Sun|Dinner|   2|             18.16|\n",
      "|     10.33|1.67|Female|    No|Sun|Dinner|   3|             16.17|\n",
      "|     16.29|3.71|  Male|    No|Sun|Dinner|   3|22.770000000000003|\n",
      "|     16.97| 3.5|Female|    No|Sun|Dinner|   3|             20.62|\n",
      "|     20.65|3.35|  Male|    No|Sat|Dinner|   3|16.220000000000002|\n",
      "+----------+----+------+------+---+------+----+------------------+\n",
      "only showing top 20 rows\n",
      "\n"
     ]
    }
   ],
   "source": [
    "tips.withColumn('tip_percent', F.round((tips.tip/tips.total_bill), 4) * 100).show()"
   ]
  },
  {
   "cell_type": "markdown",
   "metadata": {},
   "source": [
    "# Use the seattle weather dataset referenced in the lesson to answer the questions below.\n",
    "\n",
    "    - Convert the temperatures to fahrenheit.\n",
    "    - Which month has the most rain, on average?\n",
    "    - Which year was the windiest?\n",
    "    - What is the most frequent type of weather in January?\n",
    "    - What is the average high and low temperature on sunny days in July in 2013 and 2014?\n",
    "    - What percentage of days were rainy in q3 of 2015?\n",
    "    - For each year, find what percentage of days it rained (had non-zero precipitation)."
   ]
  },
  {
   "cell_type": "code",
   "execution_count": 150,
   "metadata": {},
   "outputs": [],
   "source": [
    "from vega_datasets import data\n",
    "\n",
    "weather = data.seattle_weather().assign(date=lambda df: df.date.astype(str))\n",
    "weather = spark.createDataFrame(weather)"
   ]
  },
  {
   "cell_type": "code",
   "execution_count": 85,
   "metadata": {},
   "outputs": [
    {
     "name": "stdout",
     "output_type": "stream",
     "text": [
      "+----------+-------------+--------+--------+----+-------+\n",
      "|      date|precipitation|temp_max|temp_min|wind|weather|\n",
      "+----------+-------------+--------+--------+----+-------+\n",
      "|2012-01-01|          0.0|    12.8|     5.0| 4.7|drizzle|\n",
      "|2012-01-02|         10.9|    10.6|     2.8| 4.5|   rain|\n",
      "|2012-01-03|          0.8|    11.7|     7.2| 2.3|   rain|\n",
      "|2012-01-04|         20.3|    12.2|     5.6| 4.7|   rain|\n",
      "|2012-01-05|          1.3|     8.9|     2.8| 6.1|   rain|\n",
      "+----------+-------------+--------+--------+----+-------+\n",
      "only showing top 5 rows\n",
      "\n"
     ]
    }
   ],
   "source": [
    "weather.show(5)"
   ]
  },
  {
   "cell_type": "markdown",
   "metadata": {},
   "source": [
    "## Convert the temperatures to fahrenheit"
   ]
  },
  {
   "cell_type": "code",
   "execution_count": 151,
   "metadata": {},
   "outputs": [
    {
     "name": "stdout",
     "output_type": "stream",
     "text": [
      "+----------+-------------+------------------+------------------+----+-------+\n",
      "|      date|precipitation|          temp_max|          temp_min|wind|weather|\n",
      "+----------+-------------+------------------+------------------+----+-------+\n",
      "|2012-01-01|          0.0|             55.04|              41.0| 4.7|drizzle|\n",
      "|2012-01-02|         10.9|             51.08|             37.04| 4.5|   rain|\n",
      "|2012-01-03|          0.8|             53.06|             44.96| 2.3|   rain|\n",
      "|2012-01-04|         20.3|             53.96|             42.08| 4.7|   rain|\n",
      "|2012-01-05|          1.3|             48.02|             37.04| 6.1|   rain|\n",
      "|2012-01-06|          2.5|             39.92|             35.96| 2.2|   rain|\n",
      "|2012-01-07|          0.0|             44.96|             37.04| 2.3|   rain|\n",
      "|2012-01-08|          0.0|              50.0|             37.04| 2.0|    sun|\n",
      "|2012-01-09|          4.3|             48.92|              41.0| 3.4|   rain|\n",
      "|2012-01-10|          1.0|42.980000000000004|             33.08| 3.4|   rain|\n",
      "|2012-01-11|          0.0|42.980000000000004|             30.02| 5.1|    sun|\n",
      "|2012-01-12|          0.0|42.980000000000004|             28.94| 1.9|    sun|\n",
      "|2012-01-13|          0.0|              41.0|             26.96| 1.3|    sun|\n",
      "|2012-01-14|          4.1|             39.92|             33.08| 5.3|   snow|\n",
      "|2012-01-15|          5.3|             33.98|26.060000000000002| 3.2|   snow|\n",
      "|2012-01-16|          2.5|             35.06|             26.96| 5.0|   snow|\n",
      "|2012-01-17|          8.1|             37.94|              32.0| 5.6|   snow|\n",
      "|2012-01-18|         19.8|              32.0|             26.96| 5.0|   snow|\n",
      "|2012-01-19|         15.2|             30.02|             26.96| 1.6|   snow|\n",
      "|2012-01-20|         13.5|             44.96|             30.02| 2.3|   snow|\n",
      "+----------+-------------+------------------+------------------+----+-------+\n",
      "only showing top 20 rows\n",
      "\n"
     ]
    }
   ],
   "source": [
    "weather = \\\n",
    "weather\\\n",
    "    .withColumn(\n",
    "        'temp_max', (F.col('temp_max')* 9/5 +32))\\\n",
    "    .withColumn(\n",
    "        'temp_min',(F.col('temp_min')*9/5 +32))\n",
    "weather.show()"
   ]
  },
  {
   "cell_type": "markdown",
   "metadata": {},
   "source": [
    "## Which month has the most rain, on average?\n",
    "* November, 5.35 inches of average rainfall"
   ]
  },
  {
   "cell_type": "code",
   "execution_count": 164,
   "metadata": {},
   "outputs": [
    {
     "name": "stdout",
     "output_type": "stream",
     "text": [
      "+-----+------------+\n",
      "|month|avg_rainfall|\n",
      "+-----+------------+\n",
      "|   11|        5.35|\n",
      "|   12|        5.02|\n",
      "|    3|        4.89|\n",
      "|   10|        4.06|\n",
      "|    1|        3.76|\n",
      "|    2|        3.73|\n",
      "|    4|        3.13|\n",
      "|    9|        1.96|\n",
      "|    5|        1.67|\n",
      "|    8|        1.32|\n",
      "|    6|        1.11|\n",
      "|    7|        0.39|\n",
      "+-----+------------+\n",
      "\n"
     ]
    }
   ],
   "source": [
    "#using parens helps with dot notation formatting\n",
    "( \n",
    "    weather.withColumn('month',F.month('date'))\n",
    "    .groupBy('month')\n",
    "    .agg(F.round(F.mean('precipitation'),2).alias('avg_rainfall'))\n",
    "    .sort(F.col('avg_rainfall').desc())\n",
    "    .show()\n",
    ")"
   ]
  },
  {
   "cell_type": "markdown",
   "metadata": {},
   "source": [
    "## Which year was the windiest? \n",
    "* 2012, average windpseed of 3.4"
   ]
  },
  {
   "cell_type": "code",
   "execution_count": 163,
   "metadata": {},
   "outputs": [
    {
     "name": "stderr",
     "output_type": "stream",
     "text": [
      "[Stage 175:>                                                        (0 + 8) / 8]\r"
     ]
    },
    {
     "name": "stdout",
     "output_type": "stream",
     "text": [
      "+----+--------+\n",
      "|year|avg_wind|\n",
      "+----+--------+\n",
      "|2012|     3.4|\n",
      "|2014|    3.39|\n",
      "|2015|    3.16|\n",
      "|2013|    3.02|\n",
      "+----+--------+\n",
      "\n"
     ]
    },
    {
     "name": "stderr",
     "output_type": "stream",
     "text": [
      "                                                                                \r"
     ]
    }
   ],
   "source": [
    "( \n",
    "    weather.withColumn('year',F.year('date'))\n",
    "    .groupBy('year')\n",
    "    .agg(F.round(F.mean('wind'),2).alias('avg_wind'))\n",
    "    .sort(F.col('avg_wind').desc())\n",
    "    .show()\n",
    ")"
   ]
  },
  {
   "cell_type": "code",
   "execution_count": null,
   "metadata": {},
   "outputs": [],
   "source": []
  },
  {
   "cell_type": "markdown",
   "metadata": {},
   "source": [
    "## What is the most frequent type of weather in January?\n",
    "* Fog, 38 count\n"
   ]
  },
  {
   "cell_type": "code",
   "execution_count": 166,
   "metadata": {},
   "outputs": [
    {
     "name": "stdout",
     "output_type": "stream",
     "text": [
      "+-------+-----+\n",
      "|weather|count|\n",
      "+-------+-----+\n",
      "|    fog|   38|\n",
      "|   rain|   35|\n",
      "|    sun|   33|\n",
      "|drizzle|   10|\n",
      "|   snow|    8|\n",
      "+-------+-----+\n",
      "\n"
     ]
    }
   ],
   "source": [
    "# narrow down the month, using F.month funciton\n",
    "# aggregate weather\n",
    "# aggregation function: frequency --> take the count\n",
    "# sort by the count, descending\n",
    "\n",
    "weather.filter(F.month('date')==1).groupby('weather').count().sort(F.col('count').desc()).show()\n",
    "# non-viable code\n",
    "# weather.select(weather.weather).filter(F.month('date')==1).show()\n",
    "# (\n",
    "#     weather.filter(F.month('date') == 1)\n",
    "#     .groupBy('weather')\n",
    "#     .agg(sum)\n",
    "#     .count()\n",
    "#     .show()\n",
    "# )"
   ]
  },
  {
   "cell_type": "markdown",
   "metadata": {},
   "source": [
    "## What is the average high and low temperature on sunny days in July in 2013 and 2014?\n"
   ]
  },
  {
   "cell_type": "code",
   "execution_count": 169,
   "metadata": {},
   "outputs": [
    {
     "name": "stdout",
     "output_type": "stream",
     "text": [
      "+-----------------+-----------------+\n",
      "|    avg(temp_max)|    avg(temp_min)|\n",
      "+-----------------+-----------------+\n",
      "|80.29192307692308|57.52884615384615|\n",
      "+-----------------+-----------------+\n",
      "\n"
     ]
    }
   ],
   "source": [
    "(\n",
    "    weather.filter(F.month('date')==7)\n",
    "    .where((F.year('date') == 2014) | (F.year('date') == 2013))\n",
    "    .filter(weather.weather == 'sun')\n",
    "    .agg(\n",
    "        F.avg('temp_max'),\n",
    "        F.avg('temp_min')\n",
    "        )\n",
    "    .show()\n",
    ")"
   ]
  },
  {
   "cell_type": "markdown",
   "metadata": {},
   "source": [
    "## What percentage of days were rainy in q3 of 2015?\n"
   ]
  },
  {
   "cell_type": "code",
   "execution_count": 172,
   "metadata": {},
   "outputs": [
    {
     "name": "stdout",
     "output_type": "stream",
     "text": [
      "+--------------------+\n",
      "|           avg(rain)|\n",
      "+--------------------+\n",
      "|0.021739130434782608|\n",
      "+--------------------+\n",
      "\n"
     ]
    }
   ],
   "source": [
    "(\n",
    "    weather.filter(F.quarter('date')==3)\n",
    "    .where((F.year('date') == 2015))\n",
    "    .select(F.when(F.col('weather')=='rain', 1).otherwise(0).alias('rain'))\n",
    "    .agg(F.mean('rain'))\n",
    "    .show()\n",
    ")"
   ]
  },
  {
   "cell_type": "markdown",
   "metadata": {},
   "source": [
    "## For each year, find what percentage of days it rained (had non-zero precipitation)."
   ]
  },
  {
   "cell_type": "code",
   "execution_count": 174,
   "metadata": {},
   "outputs": [
    {
     "name": "stderr",
     "output_type": "stream",
     "text": [
      "[Stage 196:=======>                                                 (1 + 7) / 8]\r"
     ]
    },
    {
     "name": "stdout",
     "output_type": "stream",
     "text": [
      "+----+-------------------+\n",
      "|year|      avg(did_rain)|\n",
      "+----+-------------------+\n",
      "|2012|0.48360655737704916|\n",
      "|2013|0.41643835616438357|\n",
      "|2014|  0.410958904109589|\n",
      "|2015|0.39452054794520547|\n",
      "+----+-------------------+\n",
      "\n"
     ]
    },
    {
     "name": "stderr",
     "output_type": "stream",
     "text": [
      "                                                                                \r"
     ]
    }
   ],
   "source": [
    "(\n",
    "    weather.withColumn(\n",
    "        'year', F.year('date')\n",
    "    )\n",
    "    .select(\n",
    "        F.when(F.col('precipitation') > 0,1)\n",
    "            .otherwise(0).alias('did_rain'), 'year'\n",
    "        )\n",
    "    .groupby('year')\n",
    "    .agg(F.mean('did_rain'))``\n",
    "    .show()\n",
    ")\n"
   ]
  },
  {
   "cell_type": "code",
   "execution_count": null,
   "metadata": {},
   "outputs": [],
   "source": []
  }
 ],
 "metadata": {
  "kernelspec": {
   "display_name": "Python 3.9.12 ('base')",
   "language": "python",
   "name": "python3"
  },
  "language_info": {
   "codemirror_mode": {
    "name": "ipython",
    "version": 3
   },
   "file_extension": ".py",
   "mimetype": "text/x-python",
   "name": "python",
   "nbconvert_exporter": "python",
   "pygments_lexer": "ipython3",
   "version": "3.9.12"
  },
  "orig_nbformat": 4,
  "vscode": {
   "interpreter": {
    "hash": "38cca0c38332a56087b24af0bc80247f4fced29cb4f7f437d91dc159adec9c4e"
   }
  }
 },
 "nbformat": 4,
 "nbformat_minor": 2
}
